{
 "cells": [
  {
   "cell_type": "code",
   "execution_count": 1,
   "id": "6940989f",
   "metadata": {},
   "outputs": [],
   "source": [
    "import pandas as pd\n",
    "from rdflib import Graph\n",
    "from rdflib.plugins.sparql.processor import SPARQLResult\n",
    "\n",
    "import matplotlib.pyplot as plt\n",
    "import matplotlib.colors as mcolors\n",
    "import seaborn as sns"
   ]
  },
  {
   "cell_type": "code",
   "execution_count": 2,
   "id": "0bdb8b4e",
   "metadata": {},
   "outputs": [
    {
     "data": {
      "text/plain": [
       "<Graph identifier=N19ecf081d9c24b638a9514af48892d04 (<class 'rdflib.graph.Graph'>)>"
      ]
     },
     "execution_count": 2,
     "metadata": {},
     "output_type": "execute_result"
    }
   ],
   "source": [
    "path = 'KG/'\n",
    "\n",
    "g1 = Graph()\n",
    "g1.parse(path + \"G1.ttl\", format=\"ttl\")\n",
    "\n",
    "g2 = Graph()\n",
    "g2.parse(path + \"G2.ttl\", format=\"ttl\")"
   ]
  },
  {
   "cell_type": "code",
   "execution_count": 3,
   "id": "17eed2a3",
   "metadata": {},
   "outputs": [],
   "source": [
    "def query_treatment_ddi():\n",
    "    query = \"\"\"\n",
    "    PREFIX rdf: <http://www.w3.org/1999/02/22-rdf-syntax-ns#>\n",
    "    PREFIX ex: <http://example/#> \n",
    "\n",
    "    select distinct ?treatment ?class (count(?ddi) as ?count_ddi)\n",
    "    where {\n",
    "        ?treatment rdf:type ex:Treatment .\n",
    "        ?treatment ex:belong_to ?class .\n",
    "        optional {?treatment ex:hasInteraction ?ddi .}\n",
    "        }\n",
    "        GROUP BY ?treatment\n",
    "        ORDER BY desc(?count_ddi)\n",
    "        \"\"\"\n",
    "    return query\n",
    "\n",
    "def query_treatment_ddi_plot(target):\n",
    "    query = \"\"\"\n",
    "    PREFIX rdf: <http://www.w3.org/1999/02/22-rdf-syntax-ns#>\n",
    "    PREFIX ex: <http://example/#> \n",
    "\n",
    "    select distinct ?treatment  (count(?ddi) as ?count_ddi)\n",
    "    where {\n",
    "        ?treatment rdf:type ex:Treatment .\n",
    "        ?treatment ex:belong_to \"\"\"+target+\"\"\" .\n",
    "        optional {?treatment ex:hasInteraction ?ddi .}\n",
    "        }\n",
    "        GROUP BY ?treatment\n",
    "        ORDER BY desc(?count_ddi)\n",
    "        \"\"\"\n",
    "    return query\n",
    "\n",
    "\n",
    "def sparql_results_to_df(results: SPARQLResult) -> pd.DataFrame:\n",
    "    \"\"\"\n",
    "    Export results from an rdflib SPARQL query into a `pandas.DataFrame`,\n",
    "    using Python types. See https://github.com/RDFLib/rdflib/issues/1179.\n",
    "    \"\"\"\n",
    "    return pd.DataFrame(\n",
    "        data=([None if x is None else x.toPython() for x in row] for row in results),\n",
    "        columns=[str(x) for x in results.vars],\n",
    "    )\n",
    "\n",
    "def density_ddi(df_plot):\n",
    "    col = [mcolors.CSS4_COLORS['rosybrown'], mcolors.CSS4_COLORS['lightcoral'], mcolors.CSS4_COLORS['brown']]\n",
    "    fig, ax = plt.subplots()\n",
    "    sns.kdeplot(data=df_plot['KG1'], ax=ax, fill=True, shade=True,\n",
    "                cut=0, bw_adjust=.4, label='${\\cal{T\\_KG}}_{basic}$')\n",
    "    sns.kdeplot(data=df_plot['KG2'], ax=ax, fill=True, shade=True,\n",
    "                cut=0, bw_adjust=.4, label='$\\cal{T\\_KG}$')\n",
    "    #sns.kdeplot(data=df_plot['KG3'], ax=ax, fill=True, shade=True,\n",
    "    #            cut=0, bw_adjust=.4, label='${\\cal{T\\_KG}}_{random}$')\n",
    "\n",
    "    ax.legend( loc='upper right') #bbox_to_anchor=(1.02, 1.02),\n",
    "    ax.set_xlabel('Count of DDIs')\n",
    "    plt.title('Density of DDIs by Effective Treatment')\n",
    "    plt.tight_layout()\n",
    "    #plt.savefig('Plots/Density_effective_treatment.pdf', format='pdf', bbox_inches='tight')"
   ]
  },
  {
   "cell_type": "markdown",
   "id": "ddb68dfd",
   "metadata": {},
   "source": [
    "## Number of DDIs by treatment"
   ]
  },
  {
   "cell_type": "code",
   "execution_count": 4,
   "id": "c295cd74",
   "metadata": {},
   "outputs": [
    {
     "data": {
      "text/html": [
       "<div>\n",
       "<style scoped>\n",
       "    .dataframe tbody tr th:only-of-type {\n",
       "        vertical-align: middle;\n",
       "    }\n",
       "\n",
       "    .dataframe tbody tr th {\n",
       "        vertical-align: top;\n",
       "    }\n",
       "\n",
       "    .dataframe thead th {\n",
       "        text-align: right;\n",
       "    }\n",
       "</style>\n",
       "<table border=\"1\" class=\"dataframe\">\n",
       "  <thead>\n",
       "    <tr style=\"text-align: right;\">\n",
       "      <th></th>\n",
       "      <th>treatment</th>\n",
       "      <th>class</th>\n",
       "      <th>count_ddi</th>\n",
       "    </tr>\n",
       "  </thead>\n",
       "  <tbody>\n",
       "    <tr>\n",
       "      <th>0</th>\n",
       "      <td>http://example/Treatment/treatment0</td>\n",
       "      <td>http://example/#low_effect</td>\n",
       "      <td>22</td>\n",
       "    </tr>\n",
       "    <tr>\n",
       "      <th>1</th>\n",
       "      <td>http://example/Treatment/treatment3</td>\n",
       "      <td>http://example/#low_effect</td>\n",
       "      <td>22</td>\n",
       "    </tr>\n",
       "    <tr>\n",
       "      <th>2</th>\n",
       "      <td>http://example/Treatment/treatment2</td>\n",
       "      <td>http://example/#low_effect</td>\n",
       "      <td>20</td>\n",
       "    </tr>\n",
       "    <tr>\n",
       "      <th>3</th>\n",
       "      <td>http://example/Treatment/treatment1</td>\n",
       "      <td>http://example/#low_effect</td>\n",
       "      <td>18</td>\n",
       "    </tr>\n",
       "    <tr>\n",
       "      <th>4</th>\n",
       "      <td>http://example/Treatment/treatment7</td>\n",
       "      <td>http://example/#low_effect</td>\n",
       "      <td>15</td>\n",
       "    </tr>\n",
       "    <tr>\n",
       "      <th>...</th>\n",
       "      <td>...</td>\n",
       "      <td>...</td>\n",
       "      <td>...</td>\n",
       "    </tr>\n",
       "    <tr>\n",
       "      <th>543</th>\n",
       "      <td>http://example/Treatment/treatment539</td>\n",
       "      <td>http://example/#effective</td>\n",
       "      <td>0</td>\n",
       "    </tr>\n",
       "    <tr>\n",
       "      <th>544</th>\n",
       "      <td>http://example/Treatment/treatment540</td>\n",
       "      <td>http://example/#effective</td>\n",
       "      <td>0</td>\n",
       "    </tr>\n",
       "    <tr>\n",
       "      <th>545</th>\n",
       "      <td>http://example/Treatment/treatment543</td>\n",
       "      <td>http://example/#effective</td>\n",
       "      <td>0</td>\n",
       "    </tr>\n",
       "    <tr>\n",
       "      <th>546</th>\n",
       "      <td>http://example/Treatment/treatment544</td>\n",
       "      <td>http://example/#effective</td>\n",
       "      <td>0</td>\n",
       "    </tr>\n",
       "    <tr>\n",
       "      <th>547</th>\n",
       "      <td>http://example/Treatment/treatment545</td>\n",
       "      <td>http://example/#effective</td>\n",
       "      <td>0</td>\n",
       "    </tr>\n",
       "  </tbody>\n",
       "</table>\n",
       "<p>548 rows × 3 columns</p>\n",
       "</div>"
      ],
      "text/plain": [
       "                                 treatment                       class  \\\n",
       "0      http://example/Treatment/treatment0  http://example/#low_effect   \n",
       "1      http://example/Treatment/treatment3  http://example/#low_effect   \n",
       "2      http://example/Treatment/treatment2  http://example/#low_effect   \n",
       "3      http://example/Treatment/treatment1  http://example/#low_effect   \n",
       "4      http://example/Treatment/treatment7  http://example/#low_effect   \n",
       "..                                     ...                         ...   \n",
       "543  http://example/Treatment/treatment539   http://example/#effective   \n",
       "544  http://example/Treatment/treatment540   http://example/#effective   \n",
       "545  http://example/Treatment/treatment543   http://example/#effective   \n",
       "546  http://example/Treatment/treatment544   http://example/#effective   \n",
       "547  http://example/Treatment/treatment545   http://example/#effective   \n",
       "\n",
       "     count_ddi  \n",
       "0           22  \n",
       "1           22  \n",
       "2           20  \n",
       "3           18  \n",
       "4           15  \n",
       "..         ...  \n",
       "543          0  \n",
       "544          0  \n",
       "545          0  \n",
       "546          0  \n",
       "547          0  \n",
       "\n",
       "[548 rows x 3 columns]"
      ]
     },
     "execution_count": 4,
     "metadata": {},
     "output_type": "execute_result"
    }
   ],
   "source": [
    "qres = g1.query(query_treatment_ddi())\n",
    "t_ddi = sparql_results_to_df(qres)\n",
    "t_ddi"
   ]
  },
  {
   "cell_type": "markdown",
   "id": "07f861fb",
   "metadata": {},
   "source": [
    "## Amount of 'Effective' and 'Low-efect' treatments with zero DDIs"
   ]
  },
  {
   "cell_type": "code",
   "execution_count": 5,
   "id": "2e0ce09d",
   "metadata": {},
   "outputs": [
    {
     "data": {
      "text/plain": [
       "http://example/#low_effect    91\n",
       "http://example/#effective     29\n",
       "Name: class, dtype: int64"
      ]
     },
     "execution_count": 5,
     "metadata": {},
     "output_type": "execute_result"
    }
   ],
   "source": [
    "t1 = t_ddi.loc[t_ddi.count_ddi==0]\n",
    "pd.value_counts(t1['class'])"
   ]
  },
  {
   "cell_type": "markdown",
   "id": "3d655af4",
   "metadata": {},
   "source": [
    "## Density of DDIs by Effective Treatment in each KG"
   ]
  },
  {
   "cell_type": "code",
   "execution_count": 6,
   "id": "692f656d",
   "metadata": {},
   "outputs": [],
   "source": [
    "query = query_treatment_ddi_plot('ex:effective')\n",
    "qres = g1.query(query)\n",
    "df_effective = sparql_results_to_df(qres)\n",
    "\n",
    "df_plot = pd.DataFrame(columns=['KG1', 'KG2'])\n",
    "df_plot['KG1']=list(df_effective.count_ddi)\n",
    "#col = [mcolors.CSS4_COLORS['rosybrown'], mcolors.CSS4_COLORS['lightcoral'], mcolors.CSS4_COLORS['indianred']]\n",
    "#ax = df_plot.plot.hist(bins=5, alpha=0.5, color=col)"
   ]
  },
  {
   "cell_type": "code",
   "execution_count": 7,
   "id": "38f2fe5a",
   "metadata": {},
   "outputs": [],
   "source": [
    "query = query_treatment_ddi_plot('ex:effective')\n",
    "qres = g2.query(query)\n",
    "df_effective = sparql_results_to_df(qres)\n",
    "\n",
    "df_plot['KG2']=list(df_effective.count_ddi)\n",
    "#df_plot['KG2'].plot.hist(bins=5, alpha=0.5)"
   ]
  },
  {
   "cell_type": "code",
   "execution_count": 8,
   "id": "c148a971",
   "metadata": {},
   "outputs": [
    {
     "data": {
      "image/png": "[encoded data removed]",
      "text/plain": [
       "<Figure size 432x288 with 1 Axes>"
      ]
     },
     "metadata": {
      "needs_background": "light"
     },
     "output_type": "display_data"
    }
   ],
   "source": [
    "density_ddi(df_plot)"
   ]
  },
  {
   "cell_type": "code",
   "execution_count": null,
   "id": "3a30267a",
   "metadata": {},
   "outputs": [],
   "source": []
  },
  {
   "cell_type": "code",
   "execution_count": null,
   "id": "c06fc1c0",
   "metadata": {},
   "outputs": [],
   "source": []
  },
  {
   "cell_type": "code",
   "execution_count": null,
   "id": "b3316d70",
   "metadata": {},
   "outputs": [],
   "source": []
  }
 ],
 "metadata": {
  "kernelspec": {
   "display_name": "Python 3 (ipykernel)",
   "language": "python",
   "name": "python3"
  },
  "language_info": {
   "codemirror_mode": {
    "name": "ipython",
    "version": 3
   },
   "file_extension": ".py",
   "mimetype": "text/x-python",
   "name": "python",
   "nbconvert_exporter": "python",
   "pygments_lexer": "ipython3",
   "version": "3.9.7"
  }
 },
 "nbformat": 4,
 "nbformat_minor": 5
}
