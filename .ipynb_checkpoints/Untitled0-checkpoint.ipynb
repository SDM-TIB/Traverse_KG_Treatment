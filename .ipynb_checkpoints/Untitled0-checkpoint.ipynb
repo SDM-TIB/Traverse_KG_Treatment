{
 "cells": [
  {
   "cell_type": "code",
   "execution_count": 1,
   "metadata": {
    "colab": {
     "base_uri": "https://localhost:8080/"
    },
    "id": "-DEUYL18TrF_",
    "outputId": "4615d6cf-2fe4-4aec-bfdf-bcbd3a21a92c"
   },
   "outputs": [
    {
     "name": "stdout",
     "output_type": "stream",
     "text": [
      "Cloning into 'Traverse_KG_Treatment'...\n",
      "remote: Enumerating objects: 166, done.\u001b[K\n",
      "remote: Counting objects: 100% (166/166), done.\u001b[K\n",
      "remote: Compressing objects: 100% (105/105), done.\u001b[K\n",
      "remote: Total 166 (delta 85), reused 140 (delta 59), pack-reused 0\u001b[K\n",
      "Receiving objects: 100% (166/166), 2.57 MiB | 9.66 MiB/s, done.\n",
      "Resolving deltas: 100% (85/85), done.\n"
     ]
    }
   ],
   "source": [
    "!git clone https://github.com/SDM-TIB/Traverse_KG_Treatment.git"
   ]
  },
  {
   "cell_type": "code",
   "execution_count": 1,
   "metadata": {
    "id": "eA9lhpeQT1GJ"
   },
   "outputs": [],
   "source": [
    "%%capture \n",
    "!pip install rdflib\n",
    "!pip install seaborn\n",
    "!pip install pykeen\n",
    "from pkg_resources import require\n",
    "require('pykeen')"
   ]
  },
  {
   "cell_type": "code",
   "execution_count": 2,
   "metadata": {
    "colab": {
     "base_uri": "https://localhost:8080/"
    },
    "id": "cWIcp1KcfRKu",
    "outputId": "8c929d85-ebdc-43c5-9a59-b083cf5930c9"
   },
   "outputs": [
    {
     "name": "stdout",
     "output_type": "stream",
     "text": [
      "/content/Traverse_KG_Treatment\n"
     ]
    }
   ],
   "source": [
    "%cd /content/Traverse_KG_Treatment/"
   ]
  },
  {
   "cell_type": "code",
   "execution_count": 1,
   "metadata": {
    "id": "sWsl_GHbT1P6"
   },
   "outputs": [],
   "source": [
    "import pandas as pd\n",
    "from rdflib import Graph\n",
    "from rdflib.plugins.sparql.processor import SPARQLResult\n",
    "\n",
    "import matplotlib.pyplot as plt\n",
    "import matplotlib.colors as mcolors\n",
    "import seaborn as sns\n",
    "import Auxiliary"
   ]
  },
  {
   "cell_type": "code",
   "execution_count": 2,
   "metadata": {},
   "outputs": [],
   "source": [
    "path = 'KG/V4/'"
   ]
  },
  {
   "cell_type": "code",
   "execution_count": 3,
   "metadata": {
    "colab": {
     "base_uri": "https://localhost:8080/"
    },
    "id": "N8P9aDitT1TI",
    "outputId": "c83fdad1-e2ac-45cd-a434-d658cbf291fe"
   },
   "outputs": [
    {
     "data": {
      "text/plain": [
       "<Graph identifier=N56a3aea769a440c5ad7916b762af4384 (<class 'rdflib.graph.Graph'>)>"
      ]
     },
     "execution_count": 3,
     "metadata": {},
     "output_type": "execute_result"
    }
   ],
   "source": [
    "g1 = Graph()\n",
    "g1.parse(path + \"G1/train_1.ttl\", format=\"ttl\")\n",
    "\n",
    "g2 = Graph()\n",
    "g2.parse(path + \"G2/train_1.ttl\", format=\"ttl\")"
   ]
  },
  {
   "cell_type": "code",
   "execution_count": 5,
   "metadata": {
    "colab": {
     "base_uri": "https://localhost:8080/",
     "height": 129
    },
    "id": "pPgMyanMVUeC",
    "outputId": "3ec7a421-8b4b-43b0-ae3d-1cf3ca33f037"
   },
   "outputs": [
    {
     "data": {
      "text/plain": [
       "(5520, 4)"
      ]
     },
     "metadata": {},
     "output_type": "display_data"
    },
    {
     "data": {
      "text/html": [
       "\n",
       "  <div id=\"df-cce58b1f-7701-482a-803c-7eb82c656d6e\">\n",
       "    <div class=\"colab-df-container\">\n",
       "      <div>\n",
       "<style scoped>\n",
       "    .dataframe tbody tr th:only-of-type {\n",
       "        vertical-align: middle;\n",
       "    }\n",
       "\n",
       "    .dataframe tbody tr th {\n",
       "        vertical-align: top;\n",
       "    }\n",
       "\n",
       "    .dataframe thead th {\n",
       "        text-align: right;\n",
       "    }\n",
       "</style>\n",
       "<table border=\"1\" class=\"dataframe\">\n",
       "  <thead>\n",
       "    <tr style=\"text-align: right;\">\n",
       "      <th></th>\n",
       "      <th>0</th>\n",
       "      <th>1</th>\n",
       "      <th>2</th>\n",
       "      <th>3</th>\n",
       "    </tr>\n",
       "  </thead>\n",
       "  <tbody>\n",
       "    <tr>\n",
       "      <th>0</th>\n",
       "      <td>&lt;http://example/Treatment/treatment0&gt;</td>\n",
       "      <td>ex:belong_to</td>\n",
       "      <td>ex:low_effect</td>\n",
       "      <td>.</td>\n",
       "    </tr>\n",
       "    <tr>\n",
       "      <th>1</th>\n",
       "      <td>&lt;http://example/Treatment/treatment0&gt;</td>\n",
       "      <td>ex:no_belong_to</td>\n",
       "      <td>ex:effective</td>\n",
       "      <td>.</td>\n",
       "    </tr>\n",
       "  </tbody>\n",
       "</table>\n",
       "</div>\n",
       "      <button class=\"colab-df-convert\" onclick=\"convertToInteractive('df-cce58b1f-7701-482a-803c-7eb82c656d6e')\"\n",
       "              title=\"Convert this dataframe to an interactive table.\"\n",
       "              style=\"display:none;\">\n",
       "        \n",
       "  <svg xmlns=\"http://www.w3.org/2000/svg\" height=\"24px\"viewBox=\"0 0 24 24\"\n",
       "       width=\"24px\">\n",
       "    <path d=\"M0 0h24v24H0V0z\" fill=\"none\"/>\n",
       "    <path d=\"M18.56 5.44l.94 2.06.94-2.06 2.06-.94-2.06-.94-.94-2.06-.94 2.06-2.06.94zm-11 1L8.5 8.5l.94-2.06 2.06-.94-2.06-.94L8.5 2.5l-.94 2.06-2.06.94zm10 10l.94 2.06.94-2.06 2.06-.94-2.06-.94-.94-2.06-.94 2.06-2.06.94z\"/><path d=\"M17.41 7.96l-1.37-1.37c-.4-.4-.92-.59-1.43-.59-.52 0-1.04.2-1.43.59L10.3 9.45l-7.72 7.72c-.78.78-.78 2.05 0 2.83L4 21.41c.39.39.9.59 1.41.59.51 0 1.02-.2 1.41-.59l7.78-7.78 2.81-2.81c.8-.78.8-2.07 0-2.86zM5.41 20L4 18.59l7.72-7.72 1.47 1.35L5.41 20z\"/>\n",
       "  </svg>\n",
       "      </button>\n",
       "      \n",
       "  <style>\n",
       "    .colab-df-container {\n",
       "      display:flex;\n",
       "      flex-wrap:wrap;\n",
       "      gap: 12px;\n",
       "    }\n",
       "\n",
       "    .colab-df-convert {\n",
       "      background-color: #E8F0FE;\n",
       "      border: none;\n",
       "      border-radius: 50%;\n",
       "      cursor: pointer;\n",
       "      display: none;\n",
       "      fill: #1967D2;\n",
       "      height: 32px;\n",
       "      padding: 0 0 0 0;\n",
       "      width: 32px;\n",
       "    }\n",
       "\n",
       "    .colab-df-convert:hover {\n",
       "      background-color: #E2EBFA;\n",
       "      box-shadow: 0px 1px 2px rgba(60, 64, 67, 0.3), 0px 1px 3px 1px rgba(60, 64, 67, 0.15);\n",
       "      fill: #174EA6;\n",
       "    }\n",
       "\n",
       "    [theme=dark] .colab-df-convert {\n",
       "      background-color: #3B4455;\n",
       "      fill: #D2E3FC;\n",
       "    }\n",
       "\n",
       "    [theme=dark] .colab-df-convert:hover {\n",
       "      background-color: #434B5C;\n",
       "      box-shadow: 0px 1px 3px 1px rgba(0, 0, 0, 0.15);\n",
       "      filter: drop-shadow(0px 1px 2px rgba(0, 0, 0, 0.3));\n",
       "      fill: #FFFFFF;\n",
       "    }\n",
       "  </style>\n",
       "\n",
       "      <script>\n",
       "        const buttonEl =\n",
       "          document.querySelector('#df-cce58b1f-7701-482a-803c-7eb82c656d6e button.colab-df-convert');\n",
       "        buttonEl.style.display =\n",
       "          google.colab.kernel.accessAllowed ? 'block' : 'none';\n",
       "\n",
       "        async function convertToInteractive(key) {\n",
       "          const element = document.querySelector('#df-cce58b1f-7701-482a-803c-7eb82c656d6e');\n",
       "          const dataTable =\n",
       "            await google.colab.kernel.invokeFunction('convertToInteractive',\n",
       "                                                     [key], {});\n",
       "          if (!dataTable) return;\n",
       "\n",
       "          const docLinkHtml = 'Like what you see? Visit the ' +\n",
       "            '<a target=\"_blank\" href=https://colab.research.google.com/notebooks/data_table.ipynb>data table notebook</a>'\n",
       "            + ' to learn more about interactive tables.';\n",
       "          element.innerHTML = '';\n",
       "          dataTable['output_type'] = 'display_data';\n",
       "          await google.colab.output.renderOutput(dataTable, element);\n",
       "          const docLink = document.createElement('div');\n",
       "          docLink.innerHTML = docLinkHtml;\n",
       "          element.appendChild(docLink);\n",
       "        }\n",
       "      </script>\n",
       "    </div>\n",
       "  </div>\n",
       "  "
      ],
      "text/plain": [
       "                                       0                1              2  3\n",
       "0  <http://example/Treatment/treatment0>     ex:belong_to  ex:low_effect  .\n",
       "1  <http://example/Treatment/treatment0>  ex:no_belong_to   ex:effective  ."
      ]
     },
     "metadata": {},
     "output_type": "display_data"
    }
   ],
   "source": [
    "df = pd.read_csv(path + 'G1/train_1.ttl', delimiter='\\t', header=None)\n",
    "df['3'] = '.'\n",
    "display(df.shape, df.head(2))\n",
    "df.to_csv('train_1.ttl', index=None, header=None)"
   ]
  },
  {
   "cell_type": "code",
   "execution_count": 4,
   "metadata": {
    "id": "cV4jl3lGT1Vd"
   },
   "outputs": [],
   "source": [
    "def query_treatment_ddi_plot(treatement_list):\n",
    "    query = \"\"\"\n",
    "    PREFIX rdf: <http://www.w3.org/1999/02/22-rdf-syntax-ns#>\n",
    "    PREFIX ex: <http://example/> \n",
    "\n",
    "    select distinct ?treatment  (count(?ddi) as ?count_ddi)\n",
    "    where {\n",
    "        optional {?treatment ex:hasInteraction ?ddi .}\n",
    "        FILTER (?treatment in (\"\"\"+treatement_list+\"\"\"))\n",
    "        }\n",
    "        GROUP BY ?treatment\n",
    "        # ORDER BY desc(?count_ddi)\n",
    "        \"\"\"\n",
    "    return query\n",
    "\n",
    "\n",
    "def sparql_results_to_df(results: SPARQLResult) -> pd.DataFrame:\n",
    "    \"\"\"\n",
    "    Export results from an rdflib SPARQL query into a `pandas.DataFrame`,\n",
    "    using Python types. See https://github.com/RDFLib/rdflib/issues/1179.\n",
    "    \"\"\"\n",
    "    return pd.DataFrame(\n",
    "        data=([None if x is None else x.toPython() for x in row] for row in results),\n",
    "        columns=[str(x) for x in results.vars],\n",
    "    )\n",
    "\n"
   ]
  },
  {
   "cell_type": "code",
   "execution_count": 5,
   "metadata": {
    "id": "AN7PCtPIOS4D"
   },
   "outputs": [],
   "source": [
    "def get_treatment_ddi(response, path, g1, g2):\n",
    "  df = pd.read_csv(path + 'G1/test_1.ttl', delimiter='\\t', header=None)\n",
    "  low_effect = list(df.loc[df[2]==response][0].values)\n",
    "  query = query_treatment_ddi_plot(','.join(low_effect))  # 'ex:low_effect'\n",
    "\n",
    "  qres = g1.query(query)\n",
    "  df_g1 = sparql_results_to_df(qres)\n",
    "  qres = g2.query(query)\n",
    "  df_g2 = sparql_results_to_df(qres)\n",
    "\n",
    "  df_g1['KG2'] = 0\n",
    "  for i in range(df_g1.shape[0]):\n",
    "    t = df_g1.iloc[i]['treatment']\n",
    "    df_g1.at[i, 'KG2'] = df_g2.loc[df_g2.treatment==t].count_ddi.values[0]\n",
    "\n",
    "  return df_g1"
   ]
  },
  {
   "cell_type": "code",
   "execution_count": 24,
   "metadata": {
    "colab": {
     "base_uri": "https://localhost:8080/",
     "height": 424
    },
    "id": "cV4NQ3d3XkaU",
    "outputId": "dbc75ff1-13d2-46a8-fd0c-fe22dbb93b76"
   },
   "outputs": [
    {
     "data": {
      "text/html": [
       "\n",
       "  <div id=\"df-fd9b8f5a-38ad-4c8c-806a-0fc22dba3a73\">\n",
       "    <div class=\"colab-df-container\">\n",
       "      <div>\n",
       "<style scoped>\n",
       "    .dataframe tbody tr th:only-of-type {\n",
       "        vertical-align: middle;\n",
       "    }\n",
       "\n",
       "    .dataframe tbody tr th {\n",
       "        vertical-align: top;\n",
       "    }\n",
       "\n",
       "    .dataframe thead th {\n",
       "        text-align: right;\n",
       "    }\n",
       "</style>\n",
       "<table border=\"1\" class=\"dataframe\">\n",
       "  <thead>\n",
       "    <tr style=\"text-align: right;\">\n",
       "      <th></th>\n",
       "      <th>treatment</th>\n",
       "      <th>count_ddi</th>\n",
       "      <th>KG2</th>\n",
       "    </tr>\n",
       "  </thead>\n",
       "  <tbody>\n",
       "    <tr>\n",
       "      <th>0</th>\n",
       "      <td>http://example/Treatment/treatment4</td>\n",
       "      <td>14</td>\n",
       "      <td>23</td>\n",
       "    </tr>\n",
       "    <tr>\n",
       "      <th>1</th>\n",
       "      <td>http://example/Treatment/treatment6</td>\n",
       "      <td>13</td>\n",
       "      <td>27</td>\n",
       "    </tr>\n",
       "    <tr>\n",
       "      <th>2</th>\n",
       "      <td>http://example/Treatment/treatment75</td>\n",
       "      <td>4</td>\n",
       "      <td>5</td>\n",
       "    </tr>\n",
       "    <tr>\n",
       "      <th>3</th>\n",
       "      <td>http://example/Treatment/treatment101</td>\n",
       "      <td>4</td>\n",
       "      <td>4</td>\n",
       "    </tr>\n",
       "    <tr>\n",
       "      <th>4</th>\n",
       "      <td>http://example/Treatment/treatment122</td>\n",
       "      <td>5</td>\n",
       "      <td>6</td>\n",
       "    </tr>\n",
       "    <tr>\n",
       "      <th>...</th>\n",
       "      <td>...</td>\n",
       "      <td>...</td>\n",
       "      <td>...</td>\n",
       "    </tr>\n",
       "    <tr>\n",
       "      <th>61</th>\n",
       "      <td>http://example/Treatment/treatment391</td>\n",
       "      <td>1</td>\n",
       "      <td>1</td>\n",
       "    </tr>\n",
       "    <tr>\n",
       "      <th>62</th>\n",
       "      <td>http://example/Treatment/treatment398</td>\n",
       "      <td>1</td>\n",
       "      <td>1</td>\n",
       "    </tr>\n",
       "    <tr>\n",
       "      <th>63</th>\n",
       "      <td>http://example/Treatment/treatment289</td>\n",
       "      <td>1</td>\n",
       "      <td>1</td>\n",
       "    </tr>\n",
       "    <tr>\n",
       "      <th>64</th>\n",
       "      <td>http://example/Treatment/treatment330</td>\n",
       "      <td>1</td>\n",
       "      <td>1</td>\n",
       "    </tr>\n",
       "    <tr>\n",
       "      <th>65</th>\n",
       "      <td>http://example/Treatment/treatment346</td>\n",
       "      <td>1</td>\n",
       "      <td>1</td>\n",
       "    </tr>\n",
       "  </tbody>\n",
       "</table>\n",
       "<p>66 rows × 3 columns</p>\n",
       "</div>\n",
       "      <button class=\"colab-df-convert\" onclick=\"convertToInteractive('df-fd9b8f5a-38ad-4c8c-806a-0fc22dba3a73')\"\n",
       "              title=\"Convert this dataframe to an interactive table.\"\n",
       "              style=\"display:none;\">\n",
       "        \n",
       "  <svg xmlns=\"http://www.w3.org/2000/svg\" height=\"24px\"viewBox=\"0 0 24 24\"\n",
       "       width=\"24px\">\n",
       "    <path d=\"M0 0h24v24H0V0z\" fill=\"none\"/>\n",
       "    <path d=\"M18.56 5.44l.94 2.06.94-2.06 2.06-.94-2.06-.94-.94-2.06-.94 2.06-2.06.94zm-11 1L8.5 8.5l.94-2.06 2.06-.94-2.06-.94L8.5 2.5l-.94 2.06-2.06.94zm10 10l.94 2.06.94-2.06 2.06-.94-2.06-.94-.94-2.06-.94 2.06-2.06.94z\"/><path d=\"M17.41 7.96l-1.37-1.37c-.4-.4-.92-.59-1.43-.59-.52 0-1.04.2-1.43.59L10.3 9.45l-7.72 7.72c-.78.78-.78 2.05 0 2.83L4 21.41c.39.39.9.59 1.41.59.51 0 1.02-.2 1.41-.59l7.78-7.78 2.81-2.81c.8-.78.8-2.07 0-2.86zM5.41 20L4 18.59l7.72-7.72 1.47 1.35L5.41 20z\"/>\n",
       "  </svg>\n",
       "      </button>\n",
       "      \n",
       "  <style>\n",
       "    .colab-df-container {\n",
       "      display:flex;\n",
       "      flex-wrap:wrap;\n",
       "      gap: 12px;\n",
       "    }\n",
       "\n",
       "    .colab-df-convert {\n",
       "      background-color: #E8F0FE;\n",
       "      border: none;\n",
       "      border-radius: 50%;\n",
       "      cursor: pointer;\n",
       "      display: none;\n",
       "      fill: #1967D2;\n",
       "      height: 32px;\n",
       "      padding: 0 0 0 0;\n",
       "      width: 32px;\n",
       "    }\n",
       "\n",
       "    .colab-df-convert:hover {\n",
       "      background-color: #E2EBFA;\n",
       "      box-shadow: 0px 1px 2px rgba(60, 64, 67, 0.3), 0px 1px 3px 1px rgba(60, 64, 67, 0.15);\n",
       "      fill: #174EA6;\n",
       "    }\n",
       "\n",
       "    [theme=dark] .colab-df-convert {\n",
       "      background-color: #3B4455;\n",
       "      fill: #D2E3FC;\n",
       "    }\n",
       "\n",
       "    [theme=dark] .colab-df-convert:hover {\n",
       "      background-color: #434B5C;\n",
       "      box-shadow: 0px 1px 3px 1px rgba(0, 0, 0, 0.15);\n",
       "      filter: drop-shadow(0px 1px 2px rgba(0, 0, 0, 0.3));\n",
       "      fill: #FFFFFF;\n",
       "    }\n",
       "  </style>\n",
       "\n",
       "      <script>\n",
       "        const buttonEl =\n",
       "          document.querySelector('#df-fd9b8f5a-38ad-4c8c-806a-0fc22dba3a73 button.colab-df-convert');\n",
       "        buttonEl.style.display =\n",
       "          google.colab.kernel.accessAllowed ? 'block' : 'none';\n",
       "\n",
       "        async function convertToInteractive(key) {\n",
       "          const element = document.querySelector('#df-fd9b8f5a-38ad-4c8c-806a-0fc22dba3a73');\n",
       "          const dataTable =\n",
       "            await google.colab.kernel.invokeFunction('convertToInteractive',\n",
       "                                                     [key], {});\n",
       "          if (!dataTable) return;\n",
       "\n",
       "          const docLinkHtml = 'Like what you see? Visit the ' +\n",
       "            '<a target=\"_blank\" href=https://colab.research.google.com/notebooks/data_table.ipynb>data table notebook</a>'\n",
       "            + ' to learn more about interactive tables.';\n",
       "          element.innerHTML = '';\n",
       "          dataTable['output_type'] = 'display_data';\n",
       "          await google.colab.output.renderOutput(dataTable, element);\n",
       "          const docLink = document.createElement('div');\n",
       "          docLink.innerHTML = docLinkHtml;\n",
       "          element.appendChild(docLink);\n",
       "        }\n",
       "      </script>\n",
       "    </div>\n",
       "  </div>\n",
       "  "
      ],
      "text/plain": [
       "                                treatment  count_ddi  KG2\n",
       "0     http://example/Treatment/treatment4         14   23\n",
       "1     http://example/Treatment/treatment6         13   27\n",
       "2    http://example/Treatment/treatment75          4    5\n",
       "3   http://example/Treatment/treatment101          4    4\n",
       "4   http://example/Treatment/treatment122          5    6\n",
       "..                                    ...        ...  ...\n",
       "61  http://example/Treatment/treatment391          1    1\n",
       "62  http://example/Treatment/treatment398          1    1\n",
       "63  http://example/Treatment/treatment289          1    1\n",
       "64  http://example/Treatment/treatment330          1    1\n",
       "65  http://example/Treatment/treatment346          1    1\n",
       "\n",
       "[66 rows x 3 columns]"
      ]
     },
     "execution_count": 24,
     "metadata": {},
     "output_type": "execute_result"
    }
   ],
   "source": [
    "df_g1 = get_treatment_ddi('ex:low_effect', path, g1, g2)\n",
    "df_g1.to_csv(path + 'treatment_low_effect.csv', index=None)\n",
    "df_g1"
   ]
  },
  {
   "cell_type": "code",
   "execution_count": 6,
   "metadata": {
    "colab": {
     "base_uri": "https://localhost:8080/",
     "height": 424
    },
    "id": "3dxhNHjeQoLe",
    "outputId": "07bf199a-b7e8-4d08-b191-355221adc19d"
   },
   "outputs": [
    {
     "data": {
      "text/html": [
       "<div>\n",
       "<style scoped>\n",
       "    .dataframe tbody tr th:only-of-type {\n",
       "        vertical-align: middle;\n",
       "    }\n",
       "\n",
       "    .dataframe tbody tr th {\n",
       "        vertical-align: top;\n",
       "    }\n",
       "\n",
       "    .dataframe thead th {\n",
       "        text-align: right;\n",
       "    }\n",
       "</style>\n",
       "<table border=\"1\" class=\"dataframe\">\n",
       "  <thead>\n",
       "    <tr style=\"text-align: right;\">\n",
       "      <th></th>\n",
       "      <th>treatment</th>\n",
       "      <th>count_ddi</th>\n",
       "      <th>KG2</th>\n",
       "    </tr>\n",
       "  </thead>\n",
       "  <tbody>\n",
       "    <tr>\n",
       "      <th>0</th>\n",
       "      <td>http://example/Treatment/treatment4</td>\n",
       "      <td>14</td>\n",
       "      <td>23</td>\n",
       "    </tr>\n",
       "    <tr>\n",
       "      <th>1</th>\n",
       "      <td>http://example/Treatment/treatment6</td>\n",
       "      <td>13</td>\n",
       "      <td>27</td>\n",
       "    </tr>\n",
       "    <tr>\n",
       "      <th>2</th>\n",
       "      <td>http://example/Treatment/treatment75</td>\n",
       "      <td>4</td>\n",
       "      <td>5</td>\n",
       "    </tr>\n",
       "    <tr>\n",
       "      <th>3</th>\n",
       "      <td>http://example/Treatment/treatment101</td>\n",
       "      <td>4</td>\n",
       "      <td>4</td>\n",
       "    </tr>\n",
       "    <tr>\n",
       "      <th>4</th>\n",
       "      <td>http://example/Treatment/treatment122</td>\n",
       "      <td>5</td>\n",
       "      <td>6</td>\n",
       "    </tr>\n",
       "    <tr>\n",
       "      <th>...</th>\n",
       "      <td>...</td>\n",
       "      <td>...</td>\n",
       "      <td>...</td>\n",
       "    </tr>\n",
       "    <tr>\n",
       "      <th>61</th>\n",
       "      <td>http://example/Treatment/treatment391</td>\n",
       "      <td>1</td>\n",
       "      <td>1</td>\n",
       "    </tr>\n",
       "    <tr>\n",
       "      <th>62</th>\n",
       "      <td>http://example/Treatment/treatment398</td>\n",
       "      <td>1</td>\n",
       "      <td>1</td>\n",
       "    </tr>\n",
       "    <tr>\n",
       "      <th>63</th>\n",
       "      <td>http://example/Treatment/treatment289</td>\n",
       "      <td>1</td>\n",
       "      <td>1</td>\n",
       "    </tr>\n",
       "    <tr>\n",
       "      <th>64</th>\n",
       "      <td>http://example/Treatment/treatment330</td>\n",
       "      <td>1</td>\n",
       "      <td>1</td>\n",
       "    </tr>\n",
       "    <tr>\n",
       "      <th>65</th>\n",
       "      <td>http://example/Treatment/treatment346</td>\n",
       "      <td>1</td>\n",
       "      <td>1</td>\n",
       "    </tr>\n",
       "  </tbody>\n",
       "</table>\n",
       "<p>66 rows × 3 columns</p>\n",
       "</div>"
      ],
      "text/plain": [
       "                                treatment  count_ddi  KG2\n",
       "0     http://example/Treatment/treatment4         14   23\n",
       "1     http://example/Treatment/treatment6         13   27\n",
       "2    http://example/Treatment/treatment75          4    5\n",
       "3   http://example/Treatment/treatment101          4    4\n",
       "4   http://example/Treatment/treatment122          5    6\n",
       "..                                    ...        ...  ...\n",
       "61  http://example/Treatment/treatment391          1    1\n",
       "62  http://example/Treatment/treatment398          1    1\n",
       "63  http://example/Treatment/treatment289          1    1\n",
       "64  http://example/Treatment/treatment330          1    1\n",
       "65  http://example/Treatment/treatment346          1    1\n",
       "\n",
       "[66 rows x 3 columns]"
      ]
     },
     "execution_count": 6,
     "metadata": {},
     "output_type": "execute_result"
    }
   ],
   "source": [
    "df_g1 = pd.read_csv(path + 'treatment_low_effect.csv')\n",
    "df_g1"
   ]
  },
  {
   "cell_type": "code",
   "execution_count": 7,
   "metadata": {
    "colab": {
     "base_uri": "https://localhost:8080/",
     "height": 708
    },
    "id": "RlhTQ7s4KuxG",
    "outputId": "aef79eb1-0b4c-4ca1-98b4-d9ab44d04505"
   },
   "outputs": [
    {
     "name": "stderr",
     "output_type": "stream",
     "text": [
      "C:\\Users\\rivasa\\AppData\\Local\\Temp/ipykernel_17612/983812293.py:2: SettingWithCopyWarning: \n",
      "A value is trying to be set on a copy of a slice from a DataFrame.\n",
      "Try using .loc[row_indexer,col_indexer] = value instead\n",
      "\n",
      "See the caveats in the documentation: https://pandas.pydata.org/pandas-docs/stable/user_guide/indexing.html#returning-a-view-versus-a-copy\n",
      "  t_low_effect['treatment'] = '<' + t_low_effect['treatment'].astype(str) + '>'\n"
     ]
    },
    {
     "data": {
      "text/html": [
       "<div>\n",
       "<style scoped>\n",
       "    .dataframe tbody tr th:only-of-type {\n",
       "        vertical-align: middle;\n",
       "    }\n",
       "\n",
       "    .dataframe tbody tr th {\n",
       "        vertical-align: top;\n",
       "    }\n",
       "\n",
       "    .dataframe thead th {\n",
       "        text-align: right;\n",
       "    }\n",
       "</style>\n",
       "<table border=\"1\" class=\"dataframe\">\n",
       "  <thead>\n",
       "    <tr style=\"text-align: right;\">\n",
       "      <th></th>\n",
       "      <th>treatment</th>\n",
       "      <th>count_ddi</th>\n",
       "      <th>KG2</th>\n",
       "    </tr>\n",
       "  </thead>\n",
       "  <tbody>\n",
       "    <tr>\n",
       "      <th>0</th>\n",
       "      <td>&lt;http://example/Treatment/treatment4&gt;</td>\n",
       "      <td>14</td>\n",
       "      <td>23</td>\n",
       "    </tr>\n",
       "    <tr>\n",
       "      <th>1</th>\n",
       "      <td>&lt;http://example/Treatment/treatment6&gt;</td>\n",
       "      <td>13</td>\n",
       "      <td>27</td>\n",
       "    </tr>\n",
       "    <tr>\n",
       "      <th>2</th>\n",
       "      <td>&lt;http://example/Treatment/treatment75&gt;</td>\n",
       "      <td>4</td>\n",
       "      <td>5</td>\n",
       "    </tr>\n",
       "    <tr>\n",
       "      <th>4</th>\n",
       "      <td>&lt;http://example/Treatment/treatment122&gt;</td>\n",
       "      <td>5</td>\n",
       "      <td>6</td>\n",
       "    </tr>\n",
       "    <tr>\n",
       "      <th>7</th>\n",
       "      <td>&lt;http://example/Treatment/treatment13&gt;</td>\n",
       "      <td>8</td>\n",
       "      <td>10</td>\n",
       "    </tr>\n",
       "    <tr>\n",
       "      <th>12</th>\n",
       "      <td>&lt;http://example/Treatment/treatment62&gt;</td>\n",
       "      <td>6</td>\n",
       "      <td>9</td>\n",
       "    </tr>\n",
       "    <tr>\n",
       "      <th>13</th>\n",
       "      <td>&lt;http://example/Treatment/treatment91&gt;</td>\n",
       "      <td>2</td>\n",
       "      <td>3</td>\n",
       "    </tr>\n",
       "    <tr>\n",
       "      <th>14</th>\n",
       "      <td>&lt;http://example/Treatment/treatment97&gt;</td>\n",
       "      <td>5</td>\n",
       "      <td>6</td>\n",
       "    </tr>\n",
       "    <tr>\n",
       "      <th>15</th>\n",
       "      <td>&lt;http://example/Treatment/treatment149&gt;</td>\n",
       "      <td>2</td>\n",
       "      <td>3</td>\n",
       "    </tr>\n",
       "    <tr>\n",
       "      <th>16</th>\n",
       "      <td>&lt;http://example/Treatment/treatment80&gt;</td>\n",
       "      <td>7</td>\n",
       "      <td>9</td>\n",
       "    </tr>\n",
       "    <tr>\n",
       "      <th>20</th>\n",
       "      <td>&lt;http://example/Treatment/treatment36&gt;</td>\n",
       "      <td>7</td>\n",
       "      <td>10</td>\n",
       "    </tr>\n",
       "    <tr>\n",
       "      <th>25</th>\n",
       "      <td>&lt;http://example/Treatment/treatment215&gt;</td>\n",
       "      <td>3</td>\n",
       "      <td>4</td>\n",
       "    </tr>\n",
       "    <tr>\n",
       "      <th>28</th>\n",
       "      <td>&lt;http://example/Treatment/treatment59&gt;</td>\n",
       "      <td>5</td>\n",
       "      <td>6</td>\n",
       "    </tr>\n",
       "    <tr>\n",
       "      <th>29</th>\n",
       "      <td>&lt;http://example/Treatment/treatment8&gt;</td>\n",
       "      <td>15</td>\n",
       "      <td>25</td>\n",
       "    </tr>\n",
       "    <tr>\n",
       "      <th>30</th>\n",
       "      <td>&lt;http://example/Treatment/treatment53&gt;</td>\n",
       "      <td>11</td>\n",
       "      <td>12</td>\n",
       "    </tr>\n",
       "    <tr>\n",
       "      <th>31</th>\n",
       "      <td>&lt;http://example/Treatment/treatment76&gt;</td>\n",
       "      <td>7</td>\n",
       "      <td>8</td>\n",
       "    </tr>\n",
       "    <tr>\n",
       "      <th>33</th>\n",
       "      <td>&lt;http://example/Treatment/treatment317&gt;</td>\n",
       "      <td>2</td>\n",
       "      <td>3</td>\n",
       "    </tr>\n",
       "    <tr>\n",
       "      <th>47</th>\n",
       "      <td>&lt;http://example/Treatment/treatment41&gt;</td>\n",
       "      <td>3</td>\n",
       "      <td>5</td>\n",
       "    </tr>\n",
       "    <tr>\n",
       "      <th>49</th>\n",
       "      <td>&lt;http://example/Treatment/treatment94&gt;</td>\n",
       "      <td>4</td>\n",
       "      <td>5</td>\n",
       "    </tr>\n",
       "    <tr>\n",
       "      <th>54</th>\n",
       "      <td>&lt;http://example/Treatment/treatment306&gt;</td>\n",
       "      <td>2</td>\n",
       "      <td>3</td>\n",
       "    </tr>\n",
       "    <tr>\n",
       "      <th>55</th>\n",
       "      <td>&lt;http://example/Treatment/treatment287&gt;</td>\n",
       "      <td>2</td>\n",
       "      <td>3</td>\n",
       "    </tr>\n",
       "  </tbody>\n",
       "</table>\n",
       "</div>"
      ],
      "text/plain": [
       "                                  treatment  count_ddi  KG2\n",
       "0     <http://example/Treatment/treatment4>         14   23\n",
       "1     <http://example/Treatment/treatment6>         13   27\n",
       "2    <http://example/Treatment/treatment75>          4    5\n",
       "4   <http://example/Treatment/treatment122>          5    6\n",
       "7    <http://example/Treatment/treatment13>          8   10\n",
       "12   <http://example/Treatment/treatment62>          6    9\n",
       "13   <http://example/Treatment/treatment91>          2    3\n",
       "14   <http://example/Treatment/treatment97>          5    6\n",
       "15  <http://example/Treatment/treatment149>          2    3\n",
       "16   <http://example/Treatment/treatment80>          7    9\n",
       "20   <http://example/Treatment/treatment36>          7   10\n",
       "25  <http://example/Treatment/treatment215>          3    4\n",
       "28   <http://example/Treatment/treatment59>          5    6\n",
       "29    <http://example/Treatment/treatment8>         15   25\n",
       "30   <http://example/Treatment/treatment53>         11   12\n",
       "31   <http://example/Treatment/treatment76>          7    8\n",
       "33  <http://example/Treatment/treatment317>          2    3\n",
       "47   <http://example/Treatment/treatment41>          3    5\n",
       "49   <http://example/Treatment/treatment94>          4    5\n",
       "54  <http://example/Treatment/treatment306>          2    3\n",
       "55  <http://example/Treatment/treatment287>          2    3"
      ]
     },
     "execution_count": 7,
     "metadata": {},
     "output_type": "execute_result"
    }
   ],
   "source": [
    "t_low_effect = df_g1.loc[df_g1.KG2>df_g1.count_ddi]\n",
    "t_low_effect['treatment'] = '<' + t_low_effect['treatment'].astype(str) + '>'\n",
    "t_low_effect"
   ]
  },
  {
   "cell_type": "code",
   "execution_count": null,
   "metadata": {
    "colab": {
     "base_uri": "https://localhost:8080/",
     "height": 614
    },
    "id": "O34enMZ9P2OQ",
    "outputId": "d030b0b2-329f-4b1e-d0e1-78137e68e4fd"
   },
   "outputs": [],
   "source": [
    "df_g1 = get_treatment_ddi('ex:effective', path, g1, g2)\n",
    "df_g1.to_csv(path + 'treatment_effective.csv', index=None)\n",
    "df_g1"
   ]
  },
  {
   "cell_type": "code",
   "execution_count": 8,
   "metadata": {},
   "outputs": [
    {
     "data": {
      "text/html": [
       "<div>\n",
       "<style scoped>\n",
       "    .dataframe tbody tr th:only-of-type {\n",
       "        vertical-align: middle;\n",
       "    }\n",
       "\n",
       "    .dataframe tbody tr th {\n",
       "        vertical-align: top;\n",
       "    }\n",
       "\n",
       "    .dataframe thead th {\n",
       "        text-align: right;\n",
       "    }\n",
       "</style>\n",
       "<table border=\"1\" class=\"dataframe\">\n",
       "  <thead>\n",
       "    <tr style=\"text-align: right;\">\n",
       "      <th></th>\n",
       "      <th>treatment</th>\n",
       "      <th>count_ddi</th>\n",
       "      <th>KG2</th>\n",
       "    </tr>\n",
       "  </thead>\n",
       "  <tbody>\n",
       "    <tr>\n",
       "      <th>0</th>\n",
       "      <td>http://example/Treatment/treatment400</td>\n",
       "      <td>7</td>\n",
       "      <td>12</td>\n",
       "    </tr>\n",
       "    <tr>\n",
       "      <th>1</th>\n",
       "      <td>http://example/Treatment/treatment416</td>\n",
       "      <td>2</td>\n",
       "      <td>2</td>\n",
       "    </tr>\n",
       "    <tr>\n",
       "      <th>2</th>\n",
       "      <td>http://example/Treatment/treatment436</td>\n",
       "      <td>2</td>\n",
       "      <td>2</td>\n",
       "    </tr>\n",
       "    <tr>\n",
       "      <th>3</th>\n",
       "      <td>http://example/Treatment/treatment475</td>\n",
       "      <td>3</td>\n",
       "      <td>3</td>\n",
       "    </tr>\n",
       "    <tr>\n",
       "      <th>4</th>\n",
       "      <td>http://example/Treatment/treatment444</td>\n",
       "      <td>1</td>\n",
       "      <td>1</td>\n",
       "    </tr>\n",
       "    <tr>\n",
       "      <th>5</th>\n",
       "      <td>http://example/Treatment/treatment414</td>\n",
       "      <td>3</td>\n",
       "      <td>3</td>\n",
       "    </tr>\n",
       "    <tr>\n",
       "      <th>6</th>\n",
       "      <td>http://example/Treatment/treatment420</td>\n",
       "      <td>7</td>\n",
       "      <td>11</td>\n",
       "    </tr>\n",
       "    <tr>\n",
       "      <th>7</th>\n",
       "      <td>http://example/Treatment/treatment470</td>\n",
       "      <td>3</td>\n",
       "      <td>3</td>\n",
       "    </tr>\n",
       "    <tr>\n",
       "      <th>8</th>\n",
       "      <td>http://example/Treatment/treatment484</td>\n",
       "      <td>1</td>\n",
       "      <td>1</td>\n",
       "    </tr>\n",
       "    <tr>\n",
       "      <th>9</th>\n",
       "      <td>http://example/Treatment/treatment507</td>\n",
       "      <td>1</td>\n",
       "      <td>1</td>\n",
       "    </tr>\n",
       "    <tr>\n",
       "      <th>10</th>\n",
       "      <td>http://example/Treatment/treatment445</td>\n",
       "      <td>4</td>\n",
       "      <td>6</td>\n",
       "    </tr>\n",
       "    <tr>\n",
       "      <th>11</th>\n",
       "      <td>http://example/Treatment/treatment465</td>\n",
       "      <td>1</td>\n",
       "      <td>1</td>\n",
       "    </tr>\n",
       "    <tr>\n",
       "      <th>12</th>\n",
       "      <td>http://example/Treatment/treatment512</td>\n",
       "      <td>1</td>\n",
       "      <td>1</td>\n",
       "    </tr>\n",
       "    <tr>\n",
       "      <th>13</th>\n",
       "      <td>http://example/Treatment/treatment411</td>\n",
       "      <td>2</td>\n",
       "      <td>3</td>\n",
       "    </tr>\n",
       "    <tr>\n",
       "      <th>14</th>\n",
       "      <td>http://example/Treatment/treatment531</td>\n",
       "      <td>1</td>\n",
       "      <td>1</td>\n",
       "    </tr>\n",
       "    <tr>\n",
       "      <th>15</th>\n",
       "      <td>http://example/Treatment/treatment541</td>\n",
       "      <td>1</td>\n",
       "      <td>1</td>\n",
       "    </tr>\n",
       "    <tr>\n",
       "      <th>16</th>\n",
       "      <td>http://example/Treatment/treatment502</td>\n",
       "      <td>1</td>\n",
       "      <td>1</td>\n",
       "    </tr>\n",
       "    <tr>\n",
       "      <th>17</th>\n",
       "      <td>http://example/Treatment/treatment495</td>\n",
       "      <td>1</td>\n",
       "      <td>1</td>\n",
       "    </tr>\n",
       "  </tbody>\n",
       "</table>\n",
       "</div>"
      ],
      "text/plain": [
       "                                treatment  count_ddi  KG2\n",
       "0   http://example/Treatment/treatment400          7   12\n",
       "1   http://example/Treatment/treatment416          2    2\n",
       "2   http://example/Treatment/treatment436          2    2\n",
       "3   http://example/Treatment/treatment475          3    3\n",
       "4   http://example/Treatment/treatment444          1    1\n",
       "5   http://example/Treatment/treatment414          3    3\n",
       "6   http://example/Treatment/treatment420          7   11\n",
       "7   http://example/Treatment/treatment470          3    3\n",
       "8   http://example/Treatment/treatment484          1    1\n",
       "9   http://example/Treatment/treatment507          1    1\n",
       "10  http://example/Treatment/treatment445          4    6\n",
       "11  http://example/Treatment/treatment465          1    1\n",
       "12  http://example/Treatment/treatment512          1    1\n",
       "13  http://example/Treatment/treatment411          2    3\n",
       "14  http://example/Treatment/treatment531          1    1\n",
       "15  http://example/Treatment/treatment541          1    1\n",
       "16  http://example/Treatment/treatment502          1    1\n",
       "17  http://example/Treatment/treatment495          1    1"
      ]
     },
     "execution_count": 8,
     "metadata": {},
     "output_type": "execute_result"
    }
   ],
   "source": [
    "df_g1 = pd.read_csv(path + 'treatment_effective.csv')\n",
    "df_g1"
   ]
  },
  {
   "cell_type": "code",
   "execution_count": 9,
   "metadata": {
    "colab": {
     "base_uri": "https://localhost:8080/",
     "height": 175
    },
    "id": "c4R210jaRY9o",
    "outputId": "c4fb9fb1-fe9e-4a5c-9219-ffe20bb171bf"
   },
   "outputs": [
    {
     "name": "stderr",
     "output_type": "stream",
     "text": [
      "C:\\Users\\rivasa\\AppData\\Local\\Temp/ipykernel_17612/1912915431.py:3: SettingWithCopyWarning: \n",
      "A value is trying to be set on a copy of a slice from a DataFrame.\n",
      "Try using .loc[row_indexer,col_indexer] = value instead\n",
      "\n",
      "See the caveats in the documentation: https://pandas.pydata.org/pandas-docs/stable/user_guide/indexing.html#returning-a-view-versus-a-copy\n",
      "  t_effective['treatment'] = '<' + t_effective['treatment'].astype(str) + '>'\n"
     ]
    },
    {
     "data": {
      "text/html": [
       "<div>\n",
       "<style scoped>\n",
       "    .dataframe tbody tr th:only-of-type {\n",
       "        vertical-align: middle;\n",
       "    }\n",
       "\n",
       "    .dataframe tbody tr th {\n",
       "        vertical-align: top;\n",
       "    }\n",
       "\n",
       "    .dataframe thead th {\n",
       "        text-align: right;\n",
       "    }\n",
       "</style>\n",
       "<table border=\"1\" class=\"dataframe\">\n",
       "  <thead>\n",
       "    <tr style=\"text-align: right;\">\n",
       "      <th></th>\n",
       "      <th>treatment</th>\n",
       "      <th>count_ddi</th>\n",
       "      <th>KG2</th>\n",
       "    </tr>\n",
       "  </thead>\n",
       "  <tbody>\n",
       "    <tr>\n",
       "      <th>0</th>\n",
       "      <td>&lt;http://example/Treatment/treatment400&gt;</td>\n",
       "      <td>7</td>\n",
       "      <td>12</td>\n",
       "    </tr>\n",
       "    <tr>\n",
       "      <th>6</th>\n",
       "      <td>&lt;http://example/Treatment/treatment420&gt;</td>\n",
       "      <td>7</td>\n",
       "      <td>11</td>\n",
       "    </tr>\n",
       "    <tr>\n",
       "      <th>10</th>\n",
       "      <td>&lt;http://example/Treatment/treatment445&gt;</td>\n",
       "      <td>4</td>\n",
       "      <td>6</td>\n",
       "    </tr>\n",
       "    <tr>\n",
       "      <th>13</th>\n",
       "      <td>&lt;http://example/Treatment/treatment411&gt;</td>\n",
       "      <td>2</td>\n",
       "      <td>3</td>\n",
       "    </tr>\n",
       "  </tbody>\n",
       "</table>\n",
       "</div>"
      ],
      "text/plain": [
       "                                  treatment  count_ddi  KG2\n",
       "0   <http://example/Treatment/treatment400>          7   12\n",
       "6   <http://example/Treatment/treatment420>          7   11\n",
       "10  <http://example/Treatment/treatment445>          4    6\n",
       "13  <http://example/Treatment/treatment411>          2    3"
      ]
     },
     "execution_count": 9,
     "metadata": {},
     "output_type": "execute_result"
    }
   ],
   "source": [
    "t_effective = df_g1.loc[df_g1.KG2>df_g1.count_ddi]\n",
    "\n",
    "t_effective['treatment'] = '<' + t_effective['treatment'].astype(str) + '>'\n",
    "t_effective"
   ]
  },
  {
   "cell_type": "code",
   "execution_count": 70,
   "metadata": {
    "colab": {
     "base_uri": "https://localhost:8080/"
    },
    "id": "4OmKcJVzLz_T",
    "outputId": "a54051d9-4867-4f67-c58f-09904a1035c9"
   },
   "outputs": [
    {
     "data": {
      "text/plain": [
       "66"
      ]
     },
     "execution_count": 70,
     "metadata": {},
     "output_type": "execute_result"
    }
   ],
   "source": [
    "len(set(list(df_g1.treatment.unique()) + list(df_g2.treatment.unique())))"
   ]
  },
  {
   "cell_type": "code",
   "execution_count": null,
   "metadata": {
    "id": "HI6oKl_bNw4i"
   },
   "outputs": [],
   "source": []
  },
  {
   "cell_type": "code",
   "execution_count": 10,
   "metadata": {
    "colab": {
     "base_uri": "https://localhost:8080/"
    },
    "id": "5fdQbzMmhzaI",
    "outputId": "f515d298-c594-47c6-da43-ad5fd374c30d"
   },
   "outputs": [],
   "source": [
    "import torch\n",
    "import numpy as np"
   ]
  },
  {
   "cell_type": "code",
   "execution_count": 11,
   "metadata": {
    "colab": {
     "base_uri": "https://localhost:8080/",
     "height": 348
    },
    "id": "rWHW1aAehdCQ",
    "outputId": "8ee4172e-dbbd-4cff-b653-f1dd22e96afc"
   },
   "outputs": [],
   "source": [
    "m = 'TransH'  #RotatE\n",
    "fold=1\n",
    "graph = 'G1'\n",
    "model = torch.load(path + graph+'/' + m + str(fold) + '/trained_model.pkl', map_location='cpu')\n",
    "entity_embedding_tensor, relation_embedding_tensor =  Auxiliary.get_learned_embeddings(model)\n",
    "\n",
    "tf_dataset, triple_dataset = Auxiliary.load_dataset(path, graph+'/data/train_1.ttl')\n",
    "entity = list(t_effective.treatment.values)\n",
    "df_predicted_entities, new_df = Auxiliary.create_dataframe_predicted_entities(entity_embedding_tensor, entity, tf_dataset)"
   ]
  },
  {
   "cell_type": "code",
   "execution_count": 28,
   "metadata": {},
   "outputs": [
    {
     "name": "stderr",
     "output_type": "stream",
     "text": [
      "C:\\Users\\rivasa\\AppData\\Local\\Temp\\ipykernel_29304\\223779226.py:2: SettingWithCopyWarning: \n",
      "A value is trying to be set on a copy of a slice from a DataFrame.\n",
      "Try using .loc[row_indexer,col_indexer] = value instead\n",
      "\n",
      "See the caveats in the documentation: https://pandas.pydata.org/pandas-docs/stable/user_guide/indexing.html#returning-a-view-versus-a-copy\n",
      "  entity_type['type'] = 'treatment'\n"
     ]
    }
   ],
   "source": [
    "entity_type = new_df[['target']]\n",
    "entity_type['type'] = 'treatment'\n",
    "entity_type = dict(entity_type[['target', 'type']].values)"
   ]
  },
  {
   "cell_type": "code",
   "execution_count": 29,
   "metadata": {},
   "outputs": [
    {
     "data": {
      "image/png": "[encoded data removed]",
      "text/plain": [
       "<Figure size 576x576 with 1 Axes>"
      ]
     },
     "metadata": {},
     "output_type": "display_data"
    }
   ],
   "source": [
    "Auxiliary.plot_KGE(new_df, entity_type)"
   ]
  },
  {
   "cell_type": "code",
   "execution_count": 12,
   "metadata": {},
   "outputs": [],
   "source": [
    "import numpy as np\n",
    "from sklearn.decomposition import PCA\n",
    "\n",
    "def PCA_1(X , num_components):\n",
    "     \n",
    "    #Step-1\n",
    "    X_meaned = X - np.mean(X , axis = 0)\n",
    "     \n",
    "    #Step-2\n",
    "    cov_mat = np.cov(X_meaned , rowvar = False)\n",
    "     \n",
    "    #Step-3\n",
    "    eigen_values , eigen_vectors = np.linalg.eigh(cov_mat)\n",
    "     \n",
    "    #Step-4\n",
    "    sorted_index = np.argsort(eigen_values)[::-1]\n",
    "    sorted_eigenvalue = eigen_values[sorted_index]\n",
    "    sorted_eigenvectors = eigen_vectors[:,sorted_index]\n",
    "     \n",
    "    #Step-5\n",
    "    eigenvector_subset = sorted_eigenvectors[:,0:num_components]\n",
    "     \n",
    "    #Step-6\n",
    "    X_reduced = np.dot(eigenvector_subset.transpose() , X_meaned.transpose() ).transpose()\n",
    "     \n",
    "    return X_reduced\n",
    "\n",
    "def f_PCA(new_df , num_components):\n",
    "    # Principal Component Analysis\n",
    "    # define a matrix\n",
    "    A = new_df.drop(columns='target')\n",
    "    # create the PCA instance\n",
    "    pca = PCA(2)\n",
    "    # fit on data\n",
    "    pca.fit(A)\n",
    "    # transform data\n",
    "    B = pca.transform(A)\n",
    "    return B\n",
    "\n",
    "def plot_treatment(new_df, response, graph):\n",
    "    #df = new_df.drop(columns='target')\n",
    "    df = f_PCA(new_df , 2)\n",
    "    #plt.figure(figsize=(13,7))\n",
    "    plt.scatter(df[:,0],df[:,1],linewidths=5,color='blue')\n",
    "    plt.xlabel(\"PC1\",size=15)\n",
    "    plt.ylabel(\"PC2\",size=15)\n",
    "#     plt.ylim(-0.5, 0.6)\n",
    "#     plt.xlim(-0.6, 0.7)\n",
    "    plt.title(response+' Treatment Embedding Space',size=20)\n",
    "    vocab=list(new_df.target.values)\n",
    "    for i, word in enumerate(vocab):\n",
    "        plt.annotate(word,xy=(df[i,0],df[i,1]))\n",
    "    plt.savefig(fname='Plots/'+graph+response+'.pdf', format='pdf', bbox_inches='tight')"
   ]
  },
  {
   "cell_type": "code",
   "execution_count": 13,
   "metadata": {},
   "outputs": [
    {
     "data": {
      "image/png": "[encoded data removed]",
      "text/plain": [
       "<Figure size 576x396 with 1 Axes>"
      ]
     },
     "metadata": {},
     "output_type": "display_data"
    }
   ],
   "source": [
    "plot_treatment(new_df, 'Effective', graph)"
   ]
  },
  {
   "cell_type": "code",
   "execution_count": null,
   "metadata": {},
   "outputs": [],
   "source": []
  },
  {
   "cell_type": "code",
   "execution_count": null,
   "metadata": {},
   "outputs": [],
   "source": []
  },
  {
   "cell_type": "code",
   "execution_count": 14,
   "metadata": {},
   "outputs": [],
   "source": [
    "import Link_Prediction as lp"
   ]
  },
  {
   "cell_type": "code",
   "execution_count": 15,
   "metadata": {},
   "outputs": [],
   "source": [
    "th_lowEffect = 27.19266055 # means 399\n",
    "th_effective = 72.80733945 # means 149\n"
   ]
  },
  {
   "cell_type": "code",
   "execution_count": 16,
   "metadata": {},
   "outputs": [],
   "source": [
    "def get_TP_treatment(path, graph, fold, model, response, th):\n",
    "    tf_testing, triple_test = lp.load_dataset(path, graph+'/test_'+str(fold)+'.ttl')\n",
    "    predicted_heads_dec_eff = lp.predict_heads(model, 'ex:belong_to', response, tf_testing)\n",
    "    threshold, threshold_index = lp.get_threshold(predicted_heads_dec_eff, th)\n",
    "    tp_fp = predicted_heads_dec_eff.iloc[0:threshold_index + 1]\n",
    "    fn_tn = predicted_heads_dec_eff.iloc[threshold_index+1:]\n",
    "    fn = fn_tn.loc[fn_tn.in_training == True]\n",
    "    tp = tp_fp.loc[tp_fp.in_training == True]\n",
    "    return list(fn.head_label.values), list(tp.head_label.values)\n",
    "\n",
    "def intersection_list(list1, list2):  \n",
    "    return set(list1).intersection(list2)"
   ]
  },
  {
   "cell_type": "code",
   "execution_count": 17,
   "metadata": {},
   "outputs": [],
   "source": [
    "fold=4\n",
    "graph = 'G1'\n",
    "model = torch.load(path + graph+'/' + m + str(fold) + '/trained_model.pkl', map_location='cpu')\n",
    "g1_fn, g1_tp = get_TP_treatment(path, graph, fold, model, 'ex:low_effect', th_lowEffect) # 'ex:low_effect'   'ex:effective'\n",
    "graph = 'G2'\n",
    "model = torch.load(path + graph+'/' + m + str(fold) + '/trained_model.pkl', map_location='cpu')\n",
    "g2_fn, g2_tp = get_TP_treatment(path, graph, fold, model, 'ex:low_effect', th_lowEffect)"
   ]
  },
  {
   "cell_type": "code",
   "execution_count": 18,
   "metadata": {},
   "outputs": [
    {
     "data": {
      "text/plain": [
       "{'<http://example/Treatment/treatment102>',\n",
       " '<http://example/Treatment/treatment225>',\n",
       " '<http://example/Treatment/treatment312>',\n",
       " '<http://example/Treatment/treatment350>',\n",
       " '<http://example/Treatment/treatment355>'}"
      ]
     },
     "execution_count": 18,
     "metadata": {},
     "output_type": "execute_result"
    }
   ],
   "source": [
    "intersection_list(g1_fn, g2_tp)"
   ]
  },
  {
   "cell_type": "code",
   "execution_count": 21,
   "metadata": {},
   "outputs": [
    {
     "data": {
      "image/png": "[encoded data removed]",
      "text/plain": [
       "<Figure size 576x396 with 1 Axes>"
      ]
     },
     "metadata": {},
     "output_type": "display_data"
    }
   ],
   "source": [
    "graph = 'G1'\n",
    "model = torch.load(path + graph+'/' + m + str(fold) + '/trained_model.pkl', map_location='cpu')\n",
    "entity_embedding_tensor, relation_embedding_tensor =  Auxiliary.get_learned_embeddings(model)\n",
    "tf_dataset, triple_dataset = Auxiliary.load_dataset(path, graph+'/data/train_'+str(fold)+'.ttl')\n",
    "entity = list(intersection_list(g1_fn, g2_tp))+['ex:low_effect']\n",
    "df_predicted_entities, new_df = Auxiliary.create_dataframe_predicted_entities(entity_embedding_tensor, entity, tf_dataset)\n",
    "new_df.replace('<http://example/Treatment/', '', regex=True, inplace=True)\n",
    "new_df.replace('>', '', regex=True, inplace=True)\n",
    "plot_treatment(new_df, 'Low_effect', graph)"
   ]
  },
  {
   "cell_type": "code",
   "execution_count": 22,
   "metadata": {},
   "outputs": [
    {
     "data": {
      "image/png": "[encoded data removed]",
      "text/plain": [
       "<Figure size 576x396 with 1 Axes>"
      ]
     },
     "metadata": {},
     "output_type": "display_data"
    }
   ],
   "source": [
    "graph = 'G2'\n",
    "model = torch.load(path + graph+'/' + m + str(fold) + '/trained_model.pkl', map_location='cpu')\n",
    "entity_embedding_tensor, relation_embedding_tensor =  Auxiliary.get_learned_embeddings(model)\n",
    "tf_dataset, triple_dataset = Auxiliary.load_dataset(path, graph+'/data/train_'+str(fold)+'.ttl')\n",
    "entity = list(intersection_list(g1_fn, g2_tp))+['ex:low_effect']\n",
    "df_predicted_entities, new_df = Auxiliary.create_dataframe_predicted_entities(entity_embedding_tensor, entity, tf_dataset)\n",
    "new_df.replace('<http://example/Treatment/', '', regex=True, inplace=True)\n",
    "new_df.replace('>', '', regex=True, inplace=True)\n",
    "plot_treatment(new_df, 'Low_effect', graph)"
   ]
  },
  {
   "cell_type": "code",
   "execution_count": null,
   "metadata": {},
   "outputs": [],
   "source": []
  },
  {
   "cell_type": "code",
   "execution_count": 37,
   "metadata": {},
   "outputs": [],
   "source": [
    "import scipy\n",
    "\n",
    "def build_cosine_similarity(new_df):\n",
    "    array = new_df.set_index('target')\n",
    "    entity = list(array.index.values)\n",
    "    cosine_matrix = pd.DataFrame(index=entity, columns=entity)\n",
    "    cosine_matrix = cosine_matrix.fillna(0.0)    \n",
    "\n",
    "    for index, row in array.iterrows():\n",
    "        for indexC, rowC in array.iterrows():\n",
    "            sim = abs(1 - scipy.spatial.distance.cosine(row.values, rowC.values))\n",
    "            sim = round(sim, 5)\n",
    "            cosine_matrix.at[index, indexC] = sim\n",
    "    return cosine_matrix"
   ]
  },
  {
   "cell_type": "code",
   "execution_count": 38,
   "metadata": {},
   "outputs": [
    {
     "data": {
      "text/html": [
       "<div>\n",
       "<style scoped>\n",
       "    .dataframe tbody tr th:only-of-type {\n",
       "        vertical-align: middle;\n",
       "    }\n",
       "\n",
       "    .dataframe tbody tr th {\n",
       "        vertical-align: top;\n",
       "    }\n",
       "\n",
       "    .dataframe thead th {\n",
       "        text-align: right;\n",
       "    }\n",
       "</style>\n",
       "<table border=\"1\" class=\"dataframe\">\n",
       "  <thead>\n",
       "    <tr style=\"text-align: right;\">\n",
       "      <th></th>\n",
       "      <th>treatment102</th>\n",
       "      <th>treatment225</th>\n",
       "      <th>treatment312</th>\n",
       "      <th>treatment350</th>\n",
       "      <th>treatment355</th>\n",
       "      <th>ex:low_effect</th>\n",
       "    </tr>\n",
       "  </thead>\n",
       "  <tbody>\n",
       "    <tr>\n",
       "      <th>treatment102</th>\n",
       "      <td>1.00000</td>\n",
       "      <td>0.53250</td>\n",
       "      <td>0.31150</td>\n",
       "      <td>0.46372</td>\n",
       "      <td>0.53822</td>\n",
       "      <td>0.63444</td>\n",
       "    </tr>\n",
       "    <tr>\n",
       "      <th>treatment225</th>\n",
       "      <td>0.53250</td>\n",
       "      <td>1.00000</td>\n",
       "      <td>0.54906</td>\n",
       "      <td>0.42141</td>\n",
       "      <td>0.56491</td>\n",
       "      <td>0.56063</td>\n",
       "    </tr>\n",
       "    <tr>\n",
       "      <th>treatment312</th>\n",
       "      <td>0.31150</td>\n",
       "      <td>0.54906</td>\n",
       "      <td>1.00000</td>\n",
       "      <td>0.49781</td>\n",
       "      <td>0.47320</td>\n",
       "      <td>0.48099</td>\n",
       "    </tr>\n",
       "    <tr>\n",
       "      <th>treatment350</th>\n",
       "      <td>0.46372</td>\n",
       "      <td>0.42141</td>\n",
       "      <td>0.49781</td>\n",
       "      <td>1.00000</td>\n",
       "      <td>0.59578</td>\n",
       "      <td>0.71017</td>\n",
       "    </tr>\n",
       "    <tr>\n",
       "      <th>treatment355</th>\n",
       "      <td>0.53822</td>\n",
       "      <td>0.56491</td>\n",
       "      <td>0.47320</td>\n",
       "      <td>0.59578</td>\n",
       "      <td>1.00000</td>\n",
       "      <td>0.61692</td>\n",
       "    </tr>\n",
       "    <tr>\n",
       "      <th>ex:low_effect</th>\n",
       "      <td>0.63444</td>\n",
       "      <td>0.56063</td>\n",
       "      <td>0.48099</td>\n",
       "      <td>0.71017</td>\n",
       "      <td>0.61692</td>\n",
       "      <td>1.00000</td>\n",
       "    </tr>\n",
       "  </tbody>\n",
       "</table>\n",
       "</div>"
      ],
      "text/plain": [
       "               treatment102  treatment225  treatment312  treatment350  \\\n",
       "treatment102        1.00000       0.53250       0.31150       0.46372   \n",
       "treatment225        0.53250       1.00000       0.54906       0.42141   \n",
       "treatment312        0.31150       0.54906       1.00000       0.49781   \n",
       "treatment350        0.46372       0.42141       0.49781       1.00000   \n",
       "treatment355        0.53822       0.56491       0.47320       0.59578   \n",
       "ex:low_effect       0.63444       0.56063       0.48099       0.71017   \n",
       "\n",
       "               treatment355  ex:low_effect  \n",
       "treatment102        0.53822        0.63444  \n",
       "treatment225        0.56491        0.56063  \n",
       "treatment312        0.47320        0.48099  \n",
       "treatment350        0.59578        0.71017  \n",
       "treatment355        1.00000        0.61692  \n",
       "ex:low_effect       0.61692        1.00000  "
      ]
     },
     "execution_count": 38,
     "metadata": {},
     "output_type": "execute_result"
    }
   ],
   "source": [
    "cosine_matrix = build_cosine_similarity(new_df)\n",
    "cosine_matrix"
   ]
  },
  {
   "cell_type": "code",
   "execution_count": null,
   "metadata": {},
   "outputs": [],
   "source": []
  }
 ],
 "metadata": {
  "colab": {
   "name": "Untitled0.ipynb",
   "provenance": []
  },
  "kernelspec": {
   "display_name": "Python 3 (ipykernel)",
   "language": "python",
   "name": "python3"
  },
  "language_info": {
   "codemirror_mode": {
    "name": "ipython",
    "version": 3
   },
   "file_extension": ".py",
   "mimetype": "text/x-python",
   "name": "python",
   "nbconvert_exporter": "python",
   "pygments_lexer": "ipython3",
   "version": "3.9.7"
  }
 },
 "nbformat": 4,
 "nbformat_minor": 1
}
